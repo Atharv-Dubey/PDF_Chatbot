{
 "cells": [
  {
   "metadata": {
    "ExecuteTime": {
     "end_time": "2025-06-14T00:43:12.115928Z",
     "start_time": "2025-06-14T00:43:12.112925Z"
    }
   },
   "cell_type": "code",
   "source": "from main import *",
   "id": "40444185fdb965c4",
   "outputs": [],
   "execution_count": 3
  },
  {
   "metadata": {
    "ExecuteTime": {
     "end_time": "2025-06-14T00:46:17.803229Z",
     "start_time": "2025-06-14T00:43:14.375694Z"
    }
   },
   "cell_type": "code",
   "source": "run_chatbot()",
   "id": "b96cd8447a54ac6c",
   "outputs": [
    {
     "name": "stdout",
     "output_type": "stream",
     "text": [
      " C:\\Users\\athar\\PycharmProjects\\WebScrapping\\.venv\\countries_info.pdf extracted successfully.\n",
      "RAG model prepared successfully.\n",
      "Web Integrated PDF-Chatbot is ready! Ask questions about the PDF content (type 'exit' to stop).\n",
      "What is the Capital of India?\n",
      "Answer: New Delhi\n",
      "\n",
      "1.0\n",
      "What is the capital of Bangladesh?\n",
      "Answer: Bangladesh, located in Asia, has New Delhi as its capital. It spans 3,287,263 square kilometers, making it the largest country in South Asia by area. With a population of approximately 1.45 billion in 2025, India is the most populous country globally , known for its rich cultural diversity and rapid economic growth. in 2025, making it a key economic and cultural hub on the continent. Australia, the only country that is also a continent in Oceania, has Canberra as its capital. It covers 7,692,024 square kilometers, making it the smallest continent but a vast nation with much of its land being arid outback. Australia’ s population is approximately\n",
      "\n",
      "0.5\n",
      "But I am not confident about this Answer, based on the Input PDF. I am going to use the web, Just a second.\n",
      "Voila\n",
      "Answer: Dhaka\n",
      "\n",
      "What is the area of India?\n",
      "Answer: 3,287,263 square kilometers\n",
      "\n",
      "1.0\n",
      "What is the Area of Bangladesh?\n",
      "Answer: 148,460 square kilometres (57,320 sq mi)\n",
      "\n",
      "0.5\n",
      "But I am not confident about this Answer, based on the Input PDF. I am going to use the web, Just a second.\n",
      "Voila\n",
      "Answer: 148,460 square kilometres (57,320 sq mi)\n",
      "\n",
      "What is the area of Vietnam?\n",
      "Answer: 148,460 square kilometres (57,320 sq mi)\n",
      "\n",
      "0.5\n",
      "But I am not confident about this Answer, based on the Input PDF. I am going to use the web, Just a second.\n",
      "Voila\n",
      "Answer: 331,000 square kilometres (128,000 sq mi)\n",
      "\n",
      "What is the capital of Vietnam?\n",
      "Answer: Hanoi\n",
      "\n",
      "0.5\n",
      "But I am not confident about this Answer, based on the Input PDF. I am going to use the web, Just a second.\n",
      "Voila\n",
      "Answer: Hanoi\n",
      "\n",
      "exit\n",
      "Thank You For Using the Web Integrated PDF Chatbot\n"
     ]
    }
   ],
   "execution_count": 4
  },
  {
   "metadata": {
    "ExecuteTime": {
     "end_time": "2025-06-14T00:42:57.120657Z",
     "start_time": "2025-06-14T00:42:57.117656Z"
    }
   },
   "cell_type": "code",
   "source": "",
   "id": "4e8d251460facded",
   "outputs": [],
   "execution_count": null
  }
 ],
 "metadata": {
  "kernelspec": {
   "display_name": "Python 3",
   "language": "python",
   "name": "python3"
  },
  "language_info": {
   "codemirror_mode": {
    "name": "ipython",
    "version": 2
   },
   "file_extension": ".py",
   "mimetype": "text/x-python",
   "name": "python",
   "nbconvert_exporter": "python",
   "pygments_lexer": "ipython2",
   "version": "2.7.6"
  }
 },
 "nbformat": 4,
 "nbformat_minor": 5
}
